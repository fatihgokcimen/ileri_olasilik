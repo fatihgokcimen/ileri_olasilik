{
  "nbformat": 4,
  "nbformat_minor": 0,
  "metadata": {
    "colab": {
      "name": "Varyans_Bernoulli_Binomial.ipynb",
      "version": "0.3.2",
      "provenance": [],
      "collapsed_sections": [],
      "include_colab_link": true
    },
    "kernelspec": {
      "name": "python3",
      "display_name": "Python 3"
    }
  },
  "cells": [
    {
      "cell_type": "markdown",
      "metadata": {
        "id": "view-in-github",
        "colab_type": "text"
      },
      "source": [
        "<a href=\"https://colab.research.google.com/github/fatihkocaeli/ileri_olasilik/blob/master/Varyans_Bernoulli_Binomial.ipynb\" target=\"_parent\"><img src=\"https://colab.research.google.com/assets/colab-badge.svg\" alt=\"Open In Colab\"/></a>"
      ]
    },
    {
      "cell_type": "markdown",
      "metadata": {
        "id": "ljJxVk9tedqk",
        "colab_type": "text"
      },
      "source": [
        "# Varyans-Bernoulli-Binomial\n",
        "\n",
        "## 1- Varyans ve Standar Sapma Nedir:\n",
        "\n",
        "Varyans bır dağılımın kendi ortalamasından sapmasının karesinin beklenen değeridir. Varyans kavramı dağılıma ait herbir değerin dağılımın ortalamasından ne kadar uzak olduğuyla ilgilidir. Varyans söz konusu sapmaların ortalama değerini ölçmektedir.\n",
        "\n",
        "**Standart Sapma** ise varyansın kare köküdür.\n",
        "\n",
        "Problemin çözümü için aşağıdaki adımlar uygulanır.\n",
        "\n",
        "**Adım 1:** Ortalama bulunur.\n",
        "\n",
        "**Adım 2:** Her veri noktasının ortalamaya uzaklığının karesi bulunur.\n",
        "\n",
        "**Adım 3:** 2. Adımdaki değerler toplanır.\n",
        "\n",
        "**Adım 4:** Veri noktası sayısına bölünür. **(vasyans)**\n",
        "\n",
        "**Adım 5:** Karekök alın. **(Standart Sapma)**\n",
        "\n",
        "\n",
        "\n",
        "### Örnek:\n",
        "\n",
        "Kullanıcının gireceği n kadar sayının varyansının ve standart sapmasının hesaplanması\n",
        "\n",
        "\n",
        "\n",
        "\n",
        "\n",
        "\n",
        "\n",
        "\n",
        "\n",
        "---\n",
        "\n",
        "\n",
        "\n",
        "\n",
        " "
      ]
    },
    {
      "cell_type": "code",
      "metadata": {
        "id": "KOt_IY8ss7zX",
        "colab_type": "code",
        "colab": {
          "base_uri": "https://localhost:8080/",
          "height": 187
        },
        "outputId": "cbf8c64b-904d-4ddb-96c5-6e2e061e6de6"
      },
      "source": [
        "import numpy as np\n",
        "import math\n",
        "\n",
        "def varyansHesap(adet):\n",
        "  liste=[]\n",
        "  Ex=0\n",
        "  Vx=0\n",
        "  #Kullanıcının belirlediği adet kadar sayı alınıp diziye ekleniyor\n",
        "  for i in range(adet):\n",
        "    deger=int(input(str(i+1)+ \". Sayı:\"))\n",
        "    liste.append(deger)\n",
        "  \n",
        "  #Girilen değerlere göre ortalama hesaplanıyor.(Herbir değerin olasılığının kendisi ile çarpılıp toplanıyor)\n",
        "  for i in range(adet):\n",
        "    x=(1/adet)*liste[i]\n",
        "    Ex+=x\n",
        "    \n",
        "  # Varyans Hesabı Yapılıyor\n",
        "  for i in range(adet):\n",
        "    x=(1/adet)*(pow(Ex-liste[i],2))\n",
        "    Vx+=x\n",
        "    \n",
        "  # Sonuçlar yazdırılıyor  \n",
        "  print (\"Ortalama= \"+ str(Ex))\n",
        "  print (\"Varyans= \"+ str(Vx))\n",
        "  print (\"Standart Sapma= \"+ str(pow(Vx,1/2))) #Standart Sapma Hesaplanıp yazdırılıyor\n",
        "    \n",
        "adet=int(input(\"Kaç adet sayı girilecek?: \"))\n",
        "varyansHesap(adet)\n"
      ],
      "execution_count": 48,
      "outputs": [
        {
          "output_type": "stream",
          "text": [
            "Kaç adet sayı girilecek?: 6\n",
            "1. Sayı:1\n",
            "2. Sayı:2\n",
            "3. Sayı:3\n",
            "4. Sayı:4\n",
            "5. Sayı:5\n",
            "6. Sayı:6\n",
            "Ortalama= 3.5\n",
            "Varyans= 2.9166666666666665\n",
            "Standart Sapma= 1.707825127659933\n"
          ],
          "name": "stdout"
        }
      ]
    },
    {
      "cell_type": "markdown",
      "metadata": {
        "id": "qlGlFz_dwtgV",
        "colab_type": "text"
      },
      "source": [
        "## 2- Bernoulli Dağılımı:\n",
        "\n",
        "Bir deneyde başarı ve başarısızlık diye nitelendirilen iki sonuçla ilgilenildiğinde bu deneye (iki sonuçlu) Bernoulli deneyi ya da Bernoulli denemesi denir.\n",
        "\n",
        "**Basarı olasılıg**  ⇒$ p, (0 < p < 1) $ \n",
        "\n",
        "**Basarısızlık olasılıgı** ⇒ $ 1 - p = q $\n",
        "\n",
        "**Bernoulli dagılımının olasılık fonksiyonu:**\n",
        "\n",
        "$\\ P(X = x) = px(1-p)1-x, x = 0,1$\n",
        "\n",
        "$\\ E[X]= ∑ xP(X = x) = 0(1-p) + 1p = p $\n",
        "\n",
        "$\\ E[X^2]= ∑ x^2P(X = x^2) = 0^2(1-p) + 1^2p = p $\n",
        "\n",
        "$\\ Var(X) = E[X^2]-E[X]^2 = p - p^2 = p(1-p) = p(1-p) $\n",
        "\n",
        "## Örnek:\n",
        "Bir ameliyatın başarılı olma olasılığı %80, başarısız olma olasılığı %20'dir. Buna göre Bernoulli dağılımını hesaplayınız.\n",
        "\n",
        "## Çözüm: \n"
      ]
    },
    {
      "cell_type": "code",
      "metadata": {
        "id": "2SKlGuPL7mzV",
        "colab_type": "code",
        "colab": {
          "base_uri": "https://localhost:8080/",
          "height": 34
        },
        "outputId": "d36778ee-bf55-4013-f985-366853a60cc2"
      },
      "source": [
        "import math\n",
        "def bernoulliHesapla(x):\n",
        "  \n",
        "  p= x # Başarı Durumu\n",
        "  q= 1-p # Başarısızlık Durumu\n",
        "  \n",
        "  m=q*0+p*1 #dağılımın ortalaması(beklenen değer)\n",
        "  varyans=q*pow((0-p),2)+p*pow((1-p),2) #=p*(1-p)\n",
        "  #varyans2=p*(1-p) Yukarıdaki satırla aynı işlevi görür\n",
        "  print(\"Varyans= \" +str(varyans))\n",
        "\n",
        "  \n",
        "bernoulliHesapla(0.8)\n"
      ],
      "execution_count": 53,
      "outputs": [
        {
          "output_type": "stream",
          "text": [
            "Varyans= 0.15999999999999998\n"
          ],
          "name": "stdout"
        }
      ]
    },
    {
      "cell_type": "markdown",
      "metadata": {
        "id": "LQv-IZAH6AS9",
        "colab_type": "text"
      },
      "source": [
        "## 3- Binom Dağılımı:\n",
        "\n",
        "Başarı olasılığı olan bir Bernoulli denemesinin aynı şartlar altında (bağımsız olarak) n kez tekrarlanması ile oluşan deneye binom deneyi denir.\n",
        "\n",
        "Binom deneyinin aşağıdaki koşulları sağlaması gerekir:\n",
        "\n",
        "* Deney süresince örneklemde denek sayısı ya da deneme sayısı değişmez olmalıdır.\n",
        "* Denemeler birbirinden bağımsızdır.\n",
        "* Her denemede iki olası sonuç vardır (istenen ve istenmeyen olay).\n",
        "* Her denemede ilgilenilen olay olasılığı değişmezdir. Dolayısıyla istenmeyen olay olasılığı $q=1-p$  de değişmezdir.\n",
        " \n",
        "Binom dağılımı kesikli bir olasılık dağılımıdır. **X** rasgele değişkeni binom dağılımına sahip\n",
        "olduğunda  **X~Bin(n,p)**  ile gösterilir.\n",
        "\n",
        "Binom dağılımının olasılık fonksiyonu,\n",
        "\n",
        "$\\ f(x)=P(X = k) = {n \\choose k} p^xq^{n-x}, x=0,1,..., n$\n",
        "\n",
        "şeklinde verilir. \n",
        "\n",
        "\n",
        "\n",
        "**Örnek:** \n",
        "\n",
        "İlaç üreten bir firma ürettiği ilaçları ambalajlayarak satışa sunmaktadır. Ambalajlanan ilaç paketlerinin %10’unun istenen standarda uymadığı bilinmektedir. Bu ambalajlanmış ilaç paketlerinden 5 tanesi yerine koyularak rasgele olarak seçildiğinde,\n",
        "\n",
        "\n",
        "Sadece 2’sinin ambalajının istenilen standarda uygun olması olasılığı nedir?\n",
        "\n",
        "\n",
        "  $\\ P(X = 2) = {5 \\choose 2} 0.90^2(1 - 0.90)^{5-2} = 0.0081,k=2 $"
      ]
    },
    {
      "cell_type": "code",
      "metadata": {
        "id": "jsOk4hL-2G10",
        "colab_type": "code",
        "colab": {
          "base_uri": "https://localhost:8080/",
          "height": 34
        },
        "outputId": "5cfe5aa7-43d3-4f5f-fc73-cadff4459854"
      },
      "source": [
        "def faktoriyelHesapla(i):\n",
        "  if i==1:    \n",
        "    return 1 \n",
        "  else: \n",
        "    return i * faktoriyelHesapla(i-1)\n",
        "w=0  \n",
        "def kombinasyonHesapla(n,k):\n",
        "  if(n==x):\n",
        "    return 1\n",
        "  elif(n>x):\n",
        "    s= faktoriyelHesapla(n) \n",
        "    l= faktoriyelHesapla(k) \n",
        "    f= faktoriyelHesapla(n-k)\n",
        "    w=s/(l*f)\n",
        "    return w\n",
        "      \n",
        "def binomHesapla(x,n,k):\n",
        "    p= x \n",
        "    q= 1-p\n",
        "    us=n-k\n",
        "    s=kombinasyonHesapla(n,k)\n",
        "    binom=pow(p,2)*pow(q,us)*s\n",
        "    return binom\n",
        "  \n",
        "yaz=binomHesapla(0.9,5,2)\n",
        "print(yaz)"
      ],
      "execution_count": 59,
      "outputs": [
        {
          "output_type": "stream",
          "text": [
            "0.008099999999999996\n"
          ],
          "name": "stdout"
        }
      ]
    }
  ]
}
{
 "cells": [
  {
   "cell_type": "markdown",
   "metadata": {},
   "source": [
    "[![Open In Colab](https://colab.research.google.com/assets/colab-badge.svg)](https://colab.research.google.com/github/googlecolab/colabtools/blob/master/notebooks/colab-github-demo.ipynb)"
   ]
  },
  {
   "cell_type": "code",
   "execution_count": 2,
   "metadata": {},
   "outputs": [
    {
     "name": "stdout",
     "output_type": "stream",
     "text": [
      "[35, 15, 116, 150, 84, 32, 114, 73, 89, 185, 124, 89, 90, 91, 18, 103, 16, 12, 73, 179, 82, 59, 53, 163, 46, 53, 79, 183, 102, 126, 75, 111, 200, 185, 131, 5, 15, 102, 179, 119, 115, 92, 20, 197, 64, 65, 55, 22, 118, 49, 130, 186, 115, 87, 138, 162, 64, 136, 85, 157, 147, 54, 20, 84, 110, 78, 181, 44, 88, 137, 10, 128, 129, 39, 132, 21, 46, 32, 131, 73, 60, 138, 105, 32, 116, 79, 56, 34, 40, 68, 131, 155, 154, 7, 51, 35, 43, 127, 49, 16, 110]\n",
      "Bu Sayı Dizisinde 189 adet sayı çifti birbirini kalansız böler.\n"
     ]
    }
   ],
   "source": [
    "import numpy as np\n",
    "import random\n",
    "sayilar = list(range(101))\n",
    "#sayilar=[2,3,11,5,14]\n",
    "for i in range(101):\n",
    "    sayilar[i]=random.randint(1, 200)\n",
    "print(sayilar)    \n",
    "bolen_sayisi=0\n",
    "for i in range(101):\n",
    "    for j in range(101):\n",
    "        if i!=j:\n",
    "            if sayilar[i] % sayilar[j]==0:\n",
    "                bolen_sayisi+=1\n",
    "             \n",
    "print(\"Bu Sayı Dizisinde\" , bolen_sayisi, \"adet sayı çifti birbirini kalansız böler.\") "
   ]
  },
  {
   "cell_type": "code",
   "execution_count": null,
   "metadata": {},
   "outputs": [],
   "source": []
  }
 ],
 "metadata": {
  "kernelspec": {
   "display_name": "Python 3",
   "language": "python",
   "name": "python3"
  },
  "language_info": {
   "codemirror_mode": {
    "name": "ipython",
    "version": 3
   },
   "file_extension": ".py",
   "mimetype": "text/x-python",
   "name": "python",
   "nbconvert_exporter": "python",
   "pygments_lexer": "ipython3",
   "version": "3.7.0"
  }
 },
 "nbformat": 4,
 "nbformat_minor": 2
}

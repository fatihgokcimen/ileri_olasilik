{
  "nbformat": 4,
  "nbformat_minor": 0,
  "metadata": {
    "colab": {
      "name": "PMF.ipynb",
      "version": "0.3.2",
      "provenance": [],
      "collapsed_sections": [],
      "include_colab_link": true
    },
    "kernelspec": {
      "name": "python3",
      "display_name": "Python 3"
    }
  },
  "cells": [
    {
      "cell_type": "markdown",
      "metadata": {
        "id": "view-in-github",
        "colab_type": "text"
      },
      "source": [
        "<a href=\"https://colab.research.google.com/github/fatihkocaeli/ileri_olasilik/blob/master/PMF.ipynb\" target=\"_parent\"><img src=\"https://colab.research.google.com/assets/colab-badge.svg\" alt=\"Open In Colab\"/></a>"
      ]
    },
    {
      "metadata": {
        "id": "ljJxVk9tedqk",
        "colab_type": "text"
      },
      "cell_type": "markdown",
      "source": [
        "# Örnek Olsılık Kütle Fonksiyonu (PMF)\n",
        "\n",
        "## Soru: \n",
        "\n",
        "Bir sınıfta 9 Erkek 6 Kız öğrenci bulunmaktadır. Rasgele iki nöbetçi öğrenci seçilecektir. Kız öğrenci sayısına ait kesikli olasılık dağılımını bulunuz. \n",
        "\n",
        "\n",
        "## Çözüm: \n",
        "\n",
        "E: Erkek Öğrenci\n",
        "K: Kız Öğrenci\n",
        "\n",
        "**1. Durum (D1): Hiç kız öğrenci gelmeme durumu**\n",
        "\n",
        " **EE**  P(X=D1) = (9/15) * (8/14) = 0.342\n",
        "\n",
        "<hr>\n",
        "\n",
        "\n",
        "**2. Durum (D2): Bir kız öğrenci gelme durumu**\n",
        "\n",
        "**EK - KE** P(X=D2) =  ((9/15) * (6/14)) + ((6/15) * (9/14)) =  0,514\n",
        "\n",
        "<hr>\n",
        "\n",
        "\n",
        "**3. Durum (D3): İki kız öğrenci gelme durumu**\n",
        "\n",
        "**KK** P(X=D3) = (6/15) * (5/14) = 0,143\n",
        "\n",
        "<hr>\n",
        "\n",
        "<table border='1' width='200'>\n",
        "  <tr>\n",
        "    <td>X</td>\n",
        "    <td>D1</td>\n",
        "    <td>D2</td>\n",
        "    <td>D3</td>\n",
        "  </tr>\n",
        "    <tr>\n",
        "    <td>P(X=x)</td>\n",
        "    <td>0.342</td>\n",
        "    <td>0,514</td>\n",
        "    <td>0,143</td>\n",
        "  </tr>\n",
        "  </table>\n",
        "\n",
        "\n",
        "---\n",
        "\n",
        "\n",
        "\n",
        "\n",
        " "
      ]
    },
    {
      "metadata": {
        "id": "doj-DJT2igly",
        "colab_type": "code",
        "colab": {}
      },
      "cell_type": "code",
      "source": [
        "# Veri setindeki tür frekansları. \n",
        "ErkekSayisi=9\n",
        "KizSayisi=6\n",
        "ToplamOgrenciSayisi=15\n"
      ],
      "execution_count": 0,
      "outputs": []
    },
    {
      "metadata": {
        "id": "GflJ3mxDqLv0",
        "colab_type": "code",
        "colab": {}
      },
      "cell_type": "code",
      "source": [
        "# Frekanslara ve toplam sayıya göre olabilecek durum olasılıklarının hesaplanması\n",
        "\n",
        "pmf = []\n",
        "\n",
        "D1= (ErkekSayisi/ToplamOgrenciSayisi) * ((ErkekSayisi-1)/(ToplamOgrenciSayisi-1)) \n",
        "pmf.append(D1)\n",
        "\n",
        "D2=((ErkekSayisi/ToplamOgrenciSayisi) * (KizSayisi/(ToplamOgrenciSayisi-1))) + ((KizSayisi/ToplamOgrenciSayisi) * (ErkekSayisi/(ToplamOgrenciSayisi-1)))\n",
        "pmf.append(D2)\n",
        "\n",
        "D3= (KizSayisi/ToplamOgrenciSayisi) *  ((KizSayisi-1)/(ToplamOgrenciSayisi-1))\n",
        "pmf.append(D3)\n",
        "\n",
        "x=['D1', 'D2','D3']"
      ],
      "execution_count": 0,
      "outputs": []
    },
    {
      "metadata": {
        "id": "LTWQ48uASLJJ",
        "colab_type": "code",
        "outputId": "942050a4-bc07-4adc-8022-487788593f25",
        "colab": {
          "base_uri": "https://localhost:8080/",
          "height": 34
        }
      },
      "cell_type": "code",
      "source": [
        "import numpy as np\n",
        "\n",
        "np.array(pmf).sum()"
      ],
      "execution_count": 26,
      "outputs": [
        {
          "output_type": "execute_result",
          "data": {
            "text/plain": [
              "0.9999999999999999"
            ]
          },
          "metadata": {
            "tags": []
          },
          "execution_count": 26
        }
      ]
    },
    {
      "metadata": {
        "id": "pCBNXolQSNVL",
        "colab_type": "code",
        "outputId": "9a1bd32f-a2c5-4af5-a648-c068a62f97eb",
        "colab": {
          "base_uri": "https://localhost:8080/",
          "height": 282
        }
      },
      "cell_type": "code",
      "source": [
        "import matplotlib.pyplot as plt\n",
        "%matplotlib inline\n",
        "plt.style.use('ggplot')\n",
        "\n",
        "plt.bar(x, pmf);\n",
        "plt.title(\"Olsılık Kütle Fonksiyonu\");"
      ],
      "execution_count": 28,
      "outputs": [
        {
          "output_type": "display_data",
          "data": {
            "image/png": "[encoded data removed]",
            "text/plain": [
              "<Figure size 432x288 with 1 Axes>"
            ]
          },
          "metadata": {
            "tags": []
          }
        }
      ]
    },
    {
      "metadata": {
        "id": "PIGo05VuUSoJ",
        "colab_type": "code",
        "colab": {}
      },
      "cell_type": "code",
      "source": [
        ""
      ],
      "execution_count": 0,
      "outputs": []
    }
  ]
}
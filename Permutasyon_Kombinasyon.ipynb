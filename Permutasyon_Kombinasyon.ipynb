{
  "nbformat": 4,
  "nbformat_minor": 0,
  "metadata": {
    "colab": {
      "name": "Permutasyon_Kombinasyon.ipynb",
      "version": "0.3.2",
      "provenance": [],
      "collapsed_sections": [],
      "include_colab_link": true
    },
    "kernelspec": {
      "name": "python3",
      "display_name": "Python 3"
    }
  },
  "cells": [
    {
      "cell_type": "markdown",
      "metadata": {
        "id": "view-in-github",
        "colab_type": "text"
      },
      "source": [
        "<a href=\"https://colab.research.google.com/github/fatihkocaeli/ileri_olasilik/blob/master/Permutasyon_Kombinasyon.ipynb\" target=\"_parent\"><img src=\"https://colab.research.google.com/assets/colab-badge.svg\" alt=\"Open In Colab\"/></a>"
      ]
    },
    {
      "metadata": {
        "id": "sA3wHek0ZJDq",
        "colab_type": "text"
      },
      "cell_type": "markdown",
      "source": [
        "# PERMUTASYON-KOMBİNASYON"
      ]
    },
    {
      "metadata": {
        "id": "-5-RvuoGI0id",
        "colab_type": "text"
      },
      "cell_type": "markdown",
      "source": [
        "# Permutasyon Örnek\n",
        "\n",
        "## Soru: \n",
        "\n",
        "Kullanıcının girdiği erkek ve kız sayısına göre, aynı cinsiyetler bir arada olmak koşulu ile kaç farklı şekilde dizilebilir?\n",
        "\n",
        "## Çözüm:\n",
        "\n",
        "Erkekler kendi aralarında, kızlar kendi aralarında yer değiştirerek dizilebileceği için sırası ile erkek ve kız sayılarının faktoriyeli hesaplanarak çarpılır. Erkekler ve kızların da grup halinde yerleri değişebileceği için çıkan sonuç  2! ile çarpılır. Yani formül <b>(Erkek Sayısı)!.(Kız Sayısı)!.2! </b> şeklinde olur."
      ]
    },
    {
      "metadata": {
        "id": "Za1oaSL_INkw",
        "colab_type": "code",
        "colab": {}
      },
      "cell_type": "code",
      "source": [
        "def faktoriyelHesapla(i):    \n",
        "    if i==1:       \n",
        "        return 1    \n",
        "    else: \n",
        "        return i * faktoriyelHesapla(i-1)"
      ],
      "execution_count": 0,
      "outputs": []
    },
    {
      "metadata": {
        "id": "6BPB84wYK2_L",
        "colab_type": "code",
        "colab": {}
      },
      "cell_type": "code",
      "source": [
        "def permutasyonHesapla(j,k):\n",
        "    \n",
        "    l = faktoriyelHesapla(j)*faktoriyelHesapla(k)*faktoriyelHesapla(2)\n",
        "    return l\n"
      ],
      "execution_count": 0,
      "outputs": []
    },
    {
      "metadata": {
        "id": "RkT22QchLNPw",
        "colab_type": "code",
        "colab": {
          "base_uri": "https://localhost:8080/",
          "height": 102
        },
        "outputId": "b2e83ef8-b4d2-45a0-a231-81f1f8c1a7cb"
      },
      "cell_type": "code",
      "source": [
        "print(\"Erkekler ve Kızlar yanyana olmak koşulu ile kaç farklı dizilim yapılabileceğini görmek için Erkek ve Kız sayısınız giriniz \")   \n",
        " \n",
        "sayi1 = int(input(\"Erkek Sayısı Giriniz: \"))\n",
        " \n",
        "sayi2 = int(input(\"Kız Sayısı Giriniz: \")) \n",
        " \n",
        "print(\"\\nSonuç:\", permutasyonHesapla(sayi1,sayi2),\" farklı şekilde dizilebilir \")"
      ],
      "execution_count": 12,
      "outputs": [
        {
          "output_type": "stream",
          "text": [
            "Erkekler ve Kızlar yanyana olmak koşulu ile kaç farklı dizilim yapılabileceğini görmek için Erkek ve Kız sayısınız giriniz \n",
            "Erkek Sayısı Giriniz: 5\n",
            "Kız Sayısı Giriniz: 6\n",
            "\n",
            "Sonuç: 172800  farklı şekilde dizilebilir \n"
          ],
          "name": "stdout"
        }
      ]
    },
    {
      "metadata": {
        "id": "2K7c40U7Nb-e",
        "colab_type": "text"
      },
      "cell_type": "markdown",
      "source": [
        "# Kombinasyon Örnek\n",
        "\n",
        "## Soru:\n",
        "\n",
        "Kullanıcının gireceği toplam gömlek sayısı arasından yine kullanıcının gireceği adet kadar gömleğin kaç farklı şekilde seçilebilir?\n",
        "\n",
        "\n",
        "## Çözüm:\n",
        "\n",
        "<b>Sonuç=(Toplam Gömlek Sayısı)!/(Toplam Gömlek Sayısı - Seçilecek Gömlek Sayısı)! * (Seçilecek Gömlek Sayısı)! </b> Formülü kullanılarak hesaplama yapılmıştır."
      ]
    },
    {
      "metadata": {
        "id": "sGz1qkMkMxP_",
        "colab_type": "code",
        "colab": {
          "base_uri": "https://localhost:8080/",
          "height": 102
        },
        "outputId": "c6fa55a8-c419-4a86-a610-ef3d071f7f26"
      },
      "cell_type": "code",
      "source": [
        "def faktoriyelHesapla(i):\n",
        "    \n",
        "    if i==1:       \n",
        "        return 1\n",
        "    \n",
        "    else: \n",
        "        return i * faktoriyelHesapla(i-1)\n",
        "    \n",
        "def kombinasyonHesapla(j,k):\n",
        "    \n",
        "    if (j<k):\n",
        "        print(\"1. Sayının 2. Sayıdan büyük yada eşit olması gerekli. Verdiğiniz sayıların çözümü yoktur!\")\n",
        "   \n",
        "    elif(j==k):\n",
        "        print(\"1\")\n",
        "    \n",
        "    elif(j>k):        \n",
        "        s=1\n",
        "        s= faktoriyelHesapla(j) #n faktöriyel        \n",
        "        l=1\n",
        "        l= faktoriyelHesapla(k) #m faktöriyel       \n",
        "        f=1\n",
        "        f= faktoriyelHesapla(j-k) #n-m faktöriyel      \n",
        "        w=s/(l*f)\n",
        "        return w\n",
        "      \n",
        "print(\"Gömlek seçimi için sayıları giriniz\")   \n",
        " \n",
        "Toplam_Sayi = int(input(\"Toplam Gömlek Sayısını Giriniz: \"))\n",
        " \n",
        "Secilecek_Sayi = int(input(\"Seçilecek Gömlek Sayısını Giriniz: \")) \n",
        " \n",
        "print(\"\\nSonuç:\",int(kombinasyonHesapla(Toplam_Sayi,Secilecek_Sayi)), \"farklı şekilde seçilebilir.\" )"
      ],
      "execution_count": 16,
      "outputs": [
        {
          "output_type": "stream",
          "text": [
            "Gömlek seçimi için sayıları giriniz\n",
            "Toplam Gömlek Sayısını Giriniz: 6\n",
            "Seçilecek Gömlek Sayısını Giriniz: 2\n",
            "\n",
            "Sonuç: 15 farklı şekilde seçilebilir.\n"
          ],
          "name": "stdout"
        }
      ]
    }
  ]
}
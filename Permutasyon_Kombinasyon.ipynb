{
  "nbformat": 4,
  "nbformat_minor": 0,
  "metadata": {
    "colab": {
      "name": "Permutasyon_Kombinasyon.ipynb",
      "version": "0.3.2",
      "provenance": [],
      "include_colab_link": true
    },
    "kernelspec": {
      "name": "python3",
      "display_name": "Python 3"
    }
  },
  "cells": [
    {
      "cell_type": "markdown",
      "metadata": {
        "id": "view-in-github",
        "colab_type": "text"
      },
      "source": [
        "<a href=\"https://colab.research.google.com/github/fatihkocaeli/ileri_olasilik/blob/master/Permutasyon_Kombinasyon.ipynb\" target=\"_parent\"><img src=\"https://colab.research.google.com/assets/colab-badge.svg\" alt=\"Open In Colab\"/></a>"
      ]
    },
    {
      "metadata": {
        "id": "-5-RvuoGI0id",
        "colab_type": "text"
      },
      "cell_type": "markdown",
      "source": [
        "# Permutasyon Örnek\n",
        "\n",
        "## Soru: \n",
        "\n",
        "Kullanıcının girdiği erkek ve kız sayısına göre, aynı cinsiyetler bir arada olmak koşulu ile kaç farklı şekilde dizilebilir?\n",
        "\n",
        "## Çözüm:\n",
        "\n",
        "Erkekler kendi aralarında, kızlar kendi aralarında yer değiştirerek dizilebileceği için sırası ile erkek ve kız sayılarının faktoriyeli hesaplanarak çarpılır. Erkekler ve kızların da grup halinde yerleri değişebileceği için çıkan sonuç  2! ile çarpılır. Yani formül <b>(Erkek Sayısı)!.(Kız Sayısı)!.2! </b> şeklinde olur."
      ]
    },
    {
      "metadata": {
        "id": "Za1oaSL_INkw",
        "colab_type": "code",
        "colab": {}
      },
      "cell_type": "code",
      "source": [
        "def faktoriyelHesapla(i):    \n",
        "    if i==1:       \n",
        "        return 1    \n",
        "    else: \n",
        "        return i * faktoriyelHesapla(i-1)"
      ],
      "execution_count": 0,
      "outputs": []
    },
    {
      "metadata": {
        "id": "6BPB84wYK2_L",
        "colab_type": "code",
        "colab": {}
      },
      "cell_type": "code",
      "source": [
        "def permutasyonHesapla(j,k):\n",
        "    \n",
        "    l = faktoriyelHesapla(j)*faktoriyelHesapla(k)*faktoriyelHesapla(2)\n",
        "    return l\n"
      ],
      "execution_count": 0,
      "outputs": []
    },
    {
      "metadata": {
        "id": "RkT22QchLNPw",
        "colab_type": "code",
        "colab": {
          "base_uri": "https://localhost:8080/",
          "height": 102
        },
        "outputId": "b2e83ef8-b4d2-45a0-a231-81f1f8c1a7cb"
      },
      "cell_type": "code",
      "source": [
        "print(\"Erkekler ve Kızlar yanyana olmak koşulu ile kaç farklı dizilim yapılabileceğini görmek için Erkek ve Kız sayısınız giriniz \")   \n",
        " \n",
        "sayi1 = int(input(\"Erkek Sayısı Giriniz: \"))\n",
        " \n",
        "sayi2 = int(input(\"Kız Sayısı Giriniz: \")) \n",
        " \n",
        "print(\"\\nSonuç:\", permutasyonHesapla(sayi1,sayi2),\" farklı şekilde dizilebilir \")"
      ],
      "execution_count": 12,
      "outputs": [
        {
          "output_type": "stream",
          "text": [
            "Erkekler ve Kızlar yanyana olmak koşulu ile kaç farklı dizilim yapılabileceğini görmek için Erkek ve Kız sayısınız giriniz \n",
            "Erkek Sayısı Giriniz: 5\n",
            "Kız Sayısı Giriniz: 6\n",
            "\n",
            "Sonuç: 172800  farklı şekilde dizilebilir \n"
          ],
          "name": "stdout"
        }
      ]
    },
    {
      "metadata": {
        "id": "sGz1qkMkMxP_",
        "colab_type": "code",
        "colab": {}
      },
      "cell_type": "code",
      "source": [
        ""
      ],
      "execution_count": 0,
      "outputs": []
    }
  ]
}
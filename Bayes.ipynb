{
  "nbformat": 4,
  "nbformat_minor": 0,
  "metadata": {
    "colab": {
      "name": "Bayes.ipynb",
      "version": "0.3.2",
      "provenance": [],
      "collapsed_sections": [],
      "include_colab_link": true
    },
    "kernelspec": {
      "name": "python3",
      "display_name": "Python 3"
    }
  },
  "cells": [
    {
      "cell_type": "markdown",
      "metadata": {
        "id": "view-in-github",
        "colab_type": "text"
      },
      "source": [
        "<a href=\"https://colab.research.google.com/github/fatihkocaeli/ileri_olasilik/blob/master/Bayes.ipynb\" target=\"_parent\"><img src=\"https://colab.research.google.com/assets/colab-badge.svg\" alt=\"Open In Colab\"/></a>"
      ]
    },
    {
      "metadata": {
        "id": "ljJxVk9tedqk",
        "colab_type": "text"
      },
      "cell_type": "markdown",
      "source": [
        "# Örnek Bayes Problemi\n",
        "\n",
        "## Soru: \n",
        "\n",
        "Ali kaşındığını söylüyor. Kedi alerjisi için bir test var, ancak bu test her zaman doğru değil: Gerçekten alerjisi olan insanlar için, testin “Evet” sonucu vermesi %80 oranında. Alerjisi olmayan insanlar için, testin “Evet” sonucu vermesi %10 oranında (“false positive “). Nüfusun %1’inde alerji varsa ve test “Evet” çıkıyorsa, Ali’nin gerçekten alerji olma olasılığı nedir?\n",
        "\n",
        "\n",
        "## Çözüm: \n",
        "\n",
        "A: Alerji, B: Testin Evet çıkması\n",
        "\n",
        "P(A) : Alerji olasılığı = 0.01\n",
        "\n",
        "P(B) : Testin evet çıkma olasılığı = ? (hesaplamamız gerekecek)\n",
        "\n",
        "P(A|B) : Testin evet çıkması durumunda alerji olasılığı = ?? (istenen sonuç)\n",
        "\n",
        "P(B|A) : Alerji olması durumunda testin evet çıkma olasılığı = 0.80\n",
        "\n",
        "Önce P(B) yi bulalım. Testin evet çıkma olasılığını alerjisi olan ve olmayanlar için yani tüm nüfus için hesaplayacağız.\n",
        "\n",
        "P(B) = 0.01 * 0.80 + 0.99 * 0.10 = 0.107 bulduk.\n",
        "\n",
        "Şimdi bulunacak bir sonuç kaldı tüm verileri denkleme yerleştirip sonucu alalım.\n",
        "\n",
        "P(A|B)=P(A)*P(B|A)/P(B) => 0.01 * 0.80 / 0.107 = 0.075 => yaklaşık %7 bulunur.\n",
        "\n",
        "\n",
        "\n",
        "\n",
        "---\n",
        "\n",
        "\n",
        "\n",
        "\n",
        " "
      ]
    },
    {
      "metadata": {
        "id": "doj-DJT2igly",
        "colab_type": "code",
        "colab": {
          "base_uri": "https://localhost:8080/",
          "height": 34
        },
        "outputId": "4e2a87fc-ef05-44a7-afc3-1f495242a221"
      },
      "cell_type": "code",
      "source": [
        "def bayesT():\n",
        "    pA=0.01                              # Alerji olasılığı\n",
        "    \n",
        "    pBA=0.80\n",
        "    \n",
        "    pB= (pA*pBA) + (0.99*0.10)           # Testin evet çıkma olasılığı   \n",
        "    \n",
        "    pAB=pA*pBA/pB                        # Testin evet çıkması durumunda alerji olasılığı\n",
        "    \n",
        "    return pAB\n",
        "  \n",
        "print(\"Testin evet çıkması durumunda alerji olasılığı= %\" + str(bayesT()))"
      ],
      "execution_count": 14,
      "outputs": [
        {
          "output_type": "stream",
          "text": [
            "Testin evet çıkması durumunda alerji olasılığı= %0.07476635514018691\n"
          ],
          "name": "stdout"
        }
      ]
    },
    {
      "metadata": {
        "id": "GflJ3mxDqLv0",
        "colab_type": "code",
        "colab": {}
      },
      "cell_type": "code",
      "source": [
        ""
      ],
      "execution_count": 0,
      "outputs": []
    }
  ]
}
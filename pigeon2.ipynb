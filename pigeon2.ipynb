{
 "cells": [
  {
   "cell_type": "code",
   "execution_count": 1,
   "metadata": {},
   "outputs": [
    {
     "name": "stdout",
     "output_type": "stream",
     "text": [
      "[121, 150, 143, 177, 85, 144, 163, 136, 21, 79, 173, 133, 47, 2, 189, 82, 80, 127, 85, 66, 64, 110, 63, 162, 186, 77, 49, 163, 142, 184, 106, 77, 92, 109, 51, 47, 104, 174, 187, 100, 10, 66, 122, 200, 70, 178, 187, 120, 149, 187, 150, 39, 8, 66, 122, 189, 125, 167, 19, 199, 157, 97, 32, 152, 179, 135, 37, 76, 99, 40, 96, 105, 16, 52, 91, 160, 22, 87, 175, 137, 125, 159, 78, 68, 22, 20, 88, 21, 139, 72, 53, 136, 102, 162, 85, 179, 174, 51, 85, 192, 59]\n",
      "Bu Sayı Dizisinde 191 adet sayı çifti birbirini kalansız böler.\n"
     ]
    }
   ],
   "source": [
    "import numpy as np\n",
    "import random\n",
    "sayilar = list(range(101))\n",
    "#sayilar=[2,3,11,5,14]\n",
    "for i in range(101):\n",
    "    sayilar[i]=random.randint(1, 200)\n",
    "print(sayilar)    \n",
    "bolen_sayisi=0\n",
    "for i in range(101):\n",
    "    for j in range(101):\n",
    "        if i!=j:\n",
    "            if sayilar[i] % sayilar[j]==0:\n",
    "                bolen_sayisi+=1\n",
    "             \n",
    "print(\"Bu Sayı Dizisinde\" , bolen_sayisi, \"adet sayı çifti birbirini kalansız böler.\") "
   ]
  },
  {
   "cell_type": "code",
   "execution_count": null,
   "metadata": {},
   "outputs": [],
   "source": []
  }
 ],
 "metadata": {
  "kernelspec": {
   "display_name": "Python 3",
   "language": "python",
   "name": "python3"
  },
  "language_info": {
   "codemirror_mode": {
    "name": "ipython",
    "version": 3
   },
   "file_extension": ".py",
   "mimetype": "text/x-python",
   "name": "python",
   "nbconvert_exporter": "python",
   "pygments_lexer": "ipython3",
   "version": "3.7.0"
  }
 },
 "nbformat": 4,
 "nbformat_minor": 2
}

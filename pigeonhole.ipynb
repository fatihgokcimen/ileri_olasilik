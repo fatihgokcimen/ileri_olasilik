{
  "nbformat": 4,
  "nbformat_minor": 0,
  "metadata": {
    "colab": {
      "name": "pigeonhole.ipynb",
      "version": "0.3.2",
      "provenance": [],
      "include_colab_link": true
    },
    "kernelspec": {
      "name": "python3",
      "display_name": "Python 3"
    }
  },
  "cells": [
    {
      "cell_type": "markdown",
      "metadata": {
        "id": "view-in-github",
        "colab_type": "text"
      },
      "source": [
        "<a href=\"https://colab.research.google.com/github/fatihkocaeli/ileri_olasilik/blob/master/pigeonhole.ipynb\" target=\"_parent\"><img src=\"https://colab.research.google.com/assets/colab-badge.svg\" alt=\"Open In Colab\"/></a>"
      ]
    },
    {
      "metadata": {
        "id": "Mg_SrIEfcmJ1",
        "colab_type": "text"
      },
      "cell_type": "markdown",
      "source": [
        "# Güvercin Yuvası Problemi\n",
        "## Problem:\n",
        "1 ile 200 arasında 101 tane sayı seçilmiş olsun. Bu sayılar arasında muhakkak öyle iki sayı vardır ki biri diğerini tam böler. Bunun ıspatının güvercin yucası prensibi ile yapılması\n",
        "\n",
        "## Çözüm:\n",
        "Herhangi bir tam sayı; n tam sayı, a tek tam sayı olmak üzere 2𝑛. 𝑎 formunda yazılabilir.\n",
        "\n",
        "1 ile 200 aralığında a sayısı 1, 3, 5,…, 199 sayılarından biri olabilir. Verilen aralıkta 101 sayı seçilince bu kümedeki iki sayının a çarpanları kesinlikle aynı olacaktır. Böylece bu iki sayı birbirine tam bölünecektir.\n",
        "\n",
        "Öncelikle problemde istenildiği gibi 1 ile 200 arasında 101 tane rasgele sayı üretilip bir diziye aktarıldı. Bu işlemi yapan kaynak python kodları aşağıdaki gibidir."
      ]
    },
    {
      "metadata": {
        "id": "eQm7mLq-X2_k",
        "colab_type": "code",
        "outputId": "a7f530dc-9948-4d1f-dddc-a3b20ed4c346",
        "colab": {
          "base_uri": "https://localhost:8080/",
          "height": 54
        }
      },
      "cell_type": "code",
      "source": [
        "import numpy as np\n",
        "\n",
        "\n",
        "import random\n",
        "sayilar = list(range(101))\n",
        "#sayilar=[2,3,11,5,14]\n",
        "for i in range(101):\n",
        "    sayilar[i]=random.randint(1, 200)\n",
        "print(sayilar)"
      ],
      "execution_count": 1,
      "outputs": [
        {
          "output_type": "stream",
          "text": [
            "[32, 200, 46, 7, 84, 117, 119, 128, 190, 53, 194, 117, 85, 42, 67, 174, 191, 161, 31, 123, 137, 78, 83, 159, 59, 23, 167, 16, 145, 13, 56, 53, 154, 22, 172, 17, 94, 129, 189, 176, 194, 6, 61, 145, 167, 2, 38, 166, 134, 74, 21, 170, 122, 113, 85, 166, 56, 194, 7, 161, 18, 173, 182, 151, 134, 52, 108, 39, 29, 124, 103, 124, 78, 22, 188, 87, 79, 103, 169, 32, 173, 34, 158, 179, 54, 174, 158, 128, 118, 146, 170, 77, 196, 100, 18, 186, 52, 156, 172, 19, 83]\n"
          ],
          "name": "stdout"
        }
      ]
    },
    {
      "metadata": {
        "id": "ata3TLjyc6Xn",
        "colab_type": "text"
      },
      "cell_type": "markdown",
      "source": [
        "Kodlar çalıştırıldıktan sonra oluşturulan sayı dizisi yukarıdaki gibi oldu.\n",
        "\n",
        "Üretilen bütün sayılar içi içe iki döngüyle birbileriyle karşılaştırılmıştır. Bu işlem yapılırken karşılaştırılacak birinci sayı 2<sup>𝑛</sup>. 𝑎 ve diğer sayı da 2<sup>k</sup>. b formuna dönüştürülmüştür. Bu işlemden sonra a ve b sayıları kontrol edilmiş ve eşit olması durumunda bu iki sayının birbirini tam böldüğü için bölen sayısı bir arttırılmışltır. Fakat döngü sırasında sadece a ve b sayılarına bakıldığında birbirini bölen sayılar için bölen sayısı iki arttırılacağı için birinci sayının ikinci sayıdan büyük olma şartı da eklenmiştir."
      ]
    },
    {
      "metadata": {
        "id": "OymURP1vdKsT",
        "colab_type": "code",
        "colab": {}
      },
      "cell_type": "code",
      "source": [
        "# Güvercin Yuvası prensibine göre 1 ile 200 arasında seçilen 101 sayıdan en az 2 tanesinin birbirini tam böldüğünü gösterir.\n",
        "bolen_sayisi1=0\n",
        "a=0\n",
        "b=0\n",
        "n=0\n",
        "k=0\n",
        "for i in range(101):\n",
        "    a=sayilar[i]\n",
        "    while a%2==0:\n",
        "        n+=1\n",
        "        a/=2\n",
        "    for j in range(101):\n",
        "        if i!=j:\n",
        "            b=sayilar[j]\n",
        "            while b%2==0:\n",
        "                k+=1\n",
        "                b/=2\n",
        "            if sayilar[i]>sayilar[j] and a==b:\n",
        "                bolen_sayisi1+=1"
      ],
      "execution_count": 0,
      "outputs": []
    },
    {
      "metadata": {
        "id": "GeaxezN0dP9f",
        "colab_type": "code",
        "colab": {
          "base_uri": "https://localhost:8080/",
          "height": 34
        },
        "outputId": "db2952e2-a887-416a-acd9-0736890e7fc0"
      },
      "cell_type": "code",
      "source": [
        "print (\"Bu sayı dizisinde en az \",bolen_sayisi1,\" sayı birbirini tam bölmektedir\")"
      ],
      "execution_count": 3,
      "outputs": [
        {
          "output_type": "stream",
          "text": [
            "Bu sayı dizisinde en az  54  sayı birbirini tam bölmektedir\n"
          ],
          "name": "stdout"
        }
      ]
    },
    {
      "metadata": {
        "id": "OpRD5Ll4dEnw",
        "colab_type": "text"
      },
      "cell_type": "markdown",
      "source": [
        "Yukarıdaki işlemlerde sadece a ve b sayıları kriter alınarak bölen sayısı aratılmıştır. Fakat 1'e, 2'ye bölünen sayılarda a ve b sayıları eşit çıkmamaktadır. Örneğin 14 ve 2 sayıları ele alındığında 14 sayısı 2<sup>1</sup>. 7 olarak, ve 2 sayısı da 2<sup>1</sup>. 1 olarak yazılabilir. Burada a ve b'yi temsil eden 7 ve 1 rakamları eşit değil fakat 2 sayısı 14 sayısını tam böler. Bu yüzden yukarıdaki kodlar 1 ile 200 arasında 101 saylardan muhakkak öyle iki sayı vardır ki biri diğerini tam böler ifadesinin ıspatını yapar fakat birbirini tam bölen sayı adedini doğru olarak göstermez.\n",
        "\n",
        "Bunun için dizideki herbir değerin, geriye kalan diğerleriyle kalansız bölüp bölünmediği mod işlemiyle gerçekleştirildi. mod değeri 0 olduğunda bolen_sayisi2 değişkeni 1 arttırıldı.\n",
        "\n",
        "Bir sayı kendini de kalansız bölüneceği için döngülerdeki i ve j değerleri eşit olmadığı sürece bu işlem gerçekleştirildi. Bu işlemler aşagıdaki gibi yapıldı."
      ]
    },
    {
      "metadata": {
        "id": "7gcLUzncdjjv",
        "colab_type": "code",
        "colab": {}
      },
      "cell_type": "code",
      "source": [
        "#Birbirini tam bölen sayı adedini tam olarak bulur.\n",
        "bolen_sayisi2=0\n",
        "for i in range(101):\n",
        "    for j in range(101):\n",
        "        if i!=j:\n",
        "            if sayilar[i] % sayilar[j]==0:\n",
        "                bolen_sayisi2+=1"
      ],
      "execution_count": 0,
      "outputs": []
    },
    {
      "metadata": {
        "id": "uIzhpy6tdoCA",
        "colab_type": "text"
      },
      "cell_type": "markdown",
      "source": [
        "En sonunda birbirini kalansız bölen sayı çifti adedi sayısı bulunup ekrana yazdırıldı."
      ]
    },
    {
      "metadata": {
        "id": "53WKUKmqdor9",
        "colab_type": "code",
        "colab": {
          "base_uri": "https://localhost:8080/",
          "height": 34
        },
        "outputId": "1ad5a742-cb21-4423-cfef-1ebe62aa3ed3"
      },
      "cell_type": "code",
      "source": [
        "print(\"Bu Sayı Dizisinde\" , bolen_sayisi2, \"adet sayı çifti birbirini kalansız böler.\")"
      ],
      "execution_count": 5,
      "outputs": [
        {
          "output_type": "stream",
          "text": [
            "Bu Sayı Dizisinde 231 adet sayı çifti birbirini kalansız böler.\n"
          ],
          "name": "stdout"
        }
      ]
    },
    {
      "metadata": {
        "id": "jOn5N4J-dvIh",
        "colab_type": "text"
      },
      "cell_type": "markdown",
      "source": [
        "**Kodların tamamı aşağıdadır.**"
      ]
    },
    {
      "metadata": {
        "id": "xFJkIcPodzvh",
        "colab_type": "code",
        "colab": {}
      },
      "cell_type": "code",
      "source": [
        "import numpy as np\n",
        "import random\n",
        "sayilar = list(range(101))\n",
        "#sayilar=[2,3,11,5,14]\n",
        "for i in range(101):\n",
        "    sayilar[i]=random.randint(1, 200)\n",
        "print(sayilar)\n",
        "\n",
        "\n",
        "# Güvercin Yuvası prensibine göre 1 ile 200 arasında seçilen 101 sayıdan en az 2 tanesinin birbirini tam böldüğünü gösterir.\n",
        "bolen_sayisi1=0\n",
        "a=0\n",
        "b=0\n",
        "n=0\n",
        "k=0\n",
        "for i in range(101):\n",
        "    a=sayilar[i]\n",
        "    while a%2==0:\n",
        "        n+=1\n",
        "        a/=2\n",
        "    for j in range(101):\n",
        "        if i!=j:\n",
        "            b=sayilar[j]\n",
        "            while b%2==0:\n",
        "                k+=1\n",
        "                b/=2\n",
        "            if sayilar[i]>sayilar[j] and a==b:\n",
        "                bolen_sayisi1+=1\n",
        "print (\"Bu sayı dizisinde en az \",bolen_sayisi1,\" sayı birbirini tam bölmektedir\")\n",
        "\n",
        "\n",
        "#Birbirini tam bölen sayı adedini tam olarak bulur.\n",
        "bolen_sayisi2=0\n",
        "for i in range(101):\n",
        "    for j in range(101):\n",
        "        if i!=j:\n",
        "            if sayilar[i] % sayilar[j]==0:\n",
        "                bolen_sayisi2+=1\n",
        "print(\"Bu Sayı Dizisinde\" , bolen_sayisi2, \"adet sayı çifti birbirini kalansız böler.\")"
      ],
      "execution_count": 0,
      "outputs": []
    },
    {
      "metadata": {
        "id": "IDPdiD3CeFQQ",
        "colab_type": "text"
      },
      "cell_type": "markdown",
      "source": [
        "###  <a href=\\\"pigeon2.py\\\">Kaynak Dosya</a>"
      ]
    }
  ]
}
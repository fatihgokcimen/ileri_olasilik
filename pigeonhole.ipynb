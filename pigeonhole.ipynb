{
 "cells": [
  {
   "cell_type": "markdown",
   "metadata": {},
   "source": [
    "# Güvercin Yuvası Problemi\n",
    "## Problem:\n",
    "1 ile 200 arasında 101 tane sayı seçilmiş olsun. Bu sayılar arasında muhakkak öyle iki sayı vardır ki biri diğerini tam böler. Bunun ıspatının güvercin yucası prensibi ile yapılması"
   ]
  },
  {
   "cell_type": "markdown",
   "metadata": {},
   "source": [
    "## Çözüm:\n",
    "Öncelikle problemde istenildiği gibi 1 ile 200 arasında 101 tane rasgele sayı üretilip bir diziye aktarıldı. Bu işlemi yapan kaynak python kodları aşağıdaki gibidir."
   ]
  },
  {
   "cell_type": "markdown",
   "metadata": {},
   "source": [
    "[![Open In Colab](https://colab.research.google.com/assets/colab-badge.svg)]\n",
    "\n",
    "(https://github.com/fatihkocaeli/ileri_olasilik/blob/master/pigeonhole.ipynb)"
   ]
  },
  {
   "cell_type": "code",
   "execution_count": 2,
   "metadata": {},
   "outputs": [
    {
     "name": "stdout",
     "output_type": "stream",
     "text": [
      "[117, 176, 42, 5, 88, 141, 114, 114, 199, 87, 40, 1, 181, 86, 127, 164, 17, 18, 187, 178, 5, 25, 143, 4, 99, 152, 107, 156, 165, 196, 21, 123, 93, 10, 192, 114, 130, 16, 23, 21, 194, 190, 31, 102, 95, 199, 50, 69, 20, 45, 29, 198, 8, 72, 112, 87, 69, 41, 190, 172, 81, 163, 180, 200, 115, 115, 120, 23, 78, 172, 3, 169, 4, 129, 100, 49, 125, 105, 37, 128, 16, 63, 107, 100, 144, 56, 34, 195, 62, 87, 119, 105, 33, 80, 131, 38, 127, 33, 71, 6, 129]\n"
     ]
    }
   ],
   "source": [
    "import numpy as np\n",
    "import random\n",
    "sayilar = list(range(101))\n",
    "#sayilar=[2,3,11,5,14]\n",
    "for i in range(101):\n",
    "    sayilar[i]=random.randint(1, 200)\n",
    "print(sayilar)"
   ]
  },
  {
   "cell_type": "markdown",
   "metadata": {},
   "source": [
    "Kodlar çalıştırıldıktan sonra oluşturulan sayı dizisi yukarıdaki gibi oldu."
   ]
  },
  {
   "cell_type": "markdown",
   "metadata": {},
   "source": [
    "Daha sonra bolen_sayisi değişkeni 0 değerine eşitlendi. Dizideki herbir değerin, geriye kalan diğerleriyle kalansız bölüp bölünmediği mod işlemiyle gerçekleştirildi. mod değeri 0 olduğunda bolen_sayisi değişkeni 1 arttırıldı.\n",
    "\n",
    "Bir sayı kendini de kalansız bölüneceği için döngülerdeki i ve j değerleri eşit olmadığı sürece bu işlem gerçekleştirildi. Bu işlemler aşagıdaki gibi yapıldı."
   ]
  },
  {
   "cell_type": "code",
   "execution_count": 3,
   "metadata": {},
   "outputs": [],
   "source": [
    "bolen_sayisi=0\n",
    "for i in range(101):\n",
    "    for j in range(101):\n",
    "        if i!=j:\n",
    "            if sayilar[i] % sayilar[j]==0:\n",
    "                bolen_sayisi+=1"
   ]
  },
  {
   "cell_type": "markdown",
   "metadata": {},
   "source": [
    "En sonunda birbirini kalansız bölen sayı çifti adedi sayısı bulunup ekrana yazdırıldı."
   ]
  },
  {
   "cell_type": "code",
   "execution_count": 5,
   "metadata": {},
   "outputs": [
    {
     "name": "stdout",
     "output_type": "stream",
     "text": [
      "Bu Sayı Dizisinde 406 adet sayı çifti birbirini kalansız böler.\n"
     ]
    }
   ],
   "source": [
    "print(\"Bu Sayı Dizisinde\" , bolen_sayisi, \"adet sayı çifti birbirini kalansız böler.\") "
   ]
  },
  {
   "cell_type": "markdown",
   "metadata": {},
   "source": [
    "Yukarıdaki kodların çıktısı da aşağıdaki gibi oldu.\n",
    "\n",
    "<b>\"Bu Sayı Dizisinde <u>275</u> adet sayı çifti birbirini kalansız böler.\"</b>\n",
    "\n"
   ]
  },
  {
   "cell_type": "markdown",
   "metadata": {},
   "source": [
    "<hr>\n",
    "Farklı bir sayı dizisindeki ekran çıktısı aşağıdaki gibidir.\n",
    "\n",
    "[163, 19, 88, 168, 97, 15, 96, 171, 75, 169, 177, 37, 70, 165, 169, 75, 159, 194, 9, 107, 48, 12, 89, 63, 128, 52, 43, 140, 115, 27, 118, 150, 25, 124, 121, 46, 112, 27, 160, 155, 26, 55, 58, 50, 140, 49, 99, 56, 177, 164, 148, 166, 60, 176, 47, 53, 127, 44, 127, 117, 30, 42, 54, 120, 137, 152, 113, 99, 15, 154, 181, 165, 128, 10, 19, 125, 153, 34, 13, 64, 143, 55, 107, 12, 12, 157, 155, 14, 176, 5, 182, 187, 11, 138, 130, 78, 86, 47, 195, 97, 189]\n",
    "\n",
    "Bu Sayı Dizisinde 199 adet sayı çifti birbirini kalansız böler.\n",
    "\n",
    "Kodların tamamı aşağıdadır."
   ]
  },
  {
   "cell_type": "code",
   "execution_count": null,
   "metadata": {},
   "outputs": [],
   "source": [
    "import numpy as np\n",
    "import random\n",
    "sayilar = list(range(101))\n",
    "#sayilar=[2,3,11,5,14]\n",
    "for i in range(101):\n",
    "    sayilar[i]=random.randint(1, 200)\n",
    "print(sayilar)    \n",
    "bolen_sayisi=0\n",
    "for i in range(101):\n",
    "    for j in range(101):\n",
    "        if i!=j:\n",
    "            if sayilar[i] % sayilar[j]==0:\n",
    "                bolen_sayisi+=1\n",
    "             \n",
    "print(\"Bu Sayı Dizisinde\" , bolen_sayisi, \"adet sayı çifti birbirini kalansız böler.\")"
   ]
  },
  {
   "cell_type": "markdown",
   "metadata": {},
   "source": [
    "<a href =\"pigeon2.py\">Kaynak Dosya</a>"
   ]
  },
  {
   "cell_type": "code",
   "execution_count": null,
   "metadata": {},
   "outputs": [],
   "source": []
  }
 ],
 "metadata": {
  "kernelspec": {
   "display_name": "Python 3",
   "language": "python",
   "name": "python3"
  },
  "language_info": {
   "codemirror_mode": {
    "name": "ipython",
    "version": 3
   },
   "file_extension": ".py",
   "mimetype": "text/x-python",
   "name": "python",
   "nbconvert_exporter": "python",
   "pygments_lexer": "ipython3",
   "version": "3.7.0"
  }
 },
 "nbformat": 4,
 "nbformat_minor": 2
}

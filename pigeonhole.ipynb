{
 "cells": [
  {
   "cell_type": "markdown",
   "metadata": {},
   "source": [
    "<a href=\"https://colab.research.google.com/github/fatihkocaeli/ileri_olasilik/blob/master/pigeonhole.ipynb\">\n",
    "  <img src=\"https://colab.research.google.com/assets/colab-badge.svg\" alt=\"Open In Colab\"/>\n",
    "</a>"
   ]
  },
  {
   "cell_type": "markdown",
   "metadata": {},
   "source": [
    "# Güvercin Yuvası Problemi\n",
    "## Problem:\n",
    "1 ile 200 arasında 101 tane sayı seçilmiş olsun. Bu sayılar arasında muhakkak öyle iki sayı vardır ki biri diğerini tam böler. Bunun ıspatının güvercin yucası prensibi ile yapılması"
   ]
  },
  {
   "cell_type": "markdown",
   "metadata": {},
   "source": [
    "## Çözüm:\n",
    "\n",
    "Herhangi bir tam sayı; n tam sayı, a tek tam sayı olmak üzere <b>2<sup>𝑛</sup>. 𝑎</b> formunda yazılabilir.\n",
    "\n",
    "1 ile 200 aralığında a sayısı 1, 3, 5,…, 199 sayılarından biri olabilir. Verilen aralıkta 101 sayı seçilince bu kümedeki iki sayının a çarpanları kesinlikle aynı olacaktır. Böylece bu iki sayı birbirine tam bölünecektir.\n",
    "\n",
    "Öncelikle problemde istenildiği gibi 1 ile 200 arasında 101 tane rasgele sayı üretilip bir diziye aktarıldı. Bu işlemi yapan kaynak python kodları aşağıdaki gibidir."
   ]
  },
  {
   "cell_type": "code",
   "execution_count": 8,
   "metadata": {},
   "outputs": [
    {
     "name": "stdout",
     "output_type": "stream",
     "text": [
      "[145, 91, 38, 92, 80, 98, 180, 34, 170, 19, 152, 70, 72, 28, 7, 73, 34, 60, 116, 70, 181, 132, 90, 119, 133, 147, 146, 57, 34, 47, 119, 143, 174, 171, 194, 125, 52, 31, 18, 40, 19, 119, 39, 42, 165, 1, 52, 132, 173, 177, 60, 105, 51, 181, 38, 89, 69, 68, 186, 53, 4, 134, 96, 129, 128, 52, 59, 64, 16, 115, 111, 174, 32, 170, 68, 17, 117, 91, 75, 36, 38, 144, 115, 12, 182, 117, 180, 149, 171, 137, 75, 5, 71, 28, 87, 120, 48, 101, 31, 123, 153]\n"
     ]
    }
   ],
   "source": [
    "import numpy as np\n",
    "\n",
    "\n",
    "import random\n",
    "sayilar = list(range(101))\n",
    "#sayilar=[2,3,11,5,14]\n",
    "for i in range(101):\n",
    "    sayilar[i]=random.randint(1, 200)\n",
    "print(sayilar)"
   ]
  },
  {
   "cell_type": "markdown",
   "metadata": {},
   "source": [
    "Kodlar çalıştırıldıktan sonra oluşturulan sayı dizisi yukarıdaki gibi oldu.\n",
    "\n",
    "Üretilen bütün sayılar içi içe iki döngüyle birbileriyle karşılaştırılmıştır. Bu işlem yapılırken karşılaştırılacak birinci sayı   2<sup>𝑛</sup>. 𝑎 ve diğer sayı da 2<sup>k</sup>. b formuna dönüştürülmüştür. Bu işlemden sonra a ve b sayıları kontrol edilmiş ve eşit olması durumunda bu iki sayının birbirini tam böldüğü için bölen sayısı bir arttırılmışltır. Fakat döngü sırasında sadece a ve b sayılarına bakıldığında birbirini bölen sayılar için bölen sayısı iki arttırılacağı için birinci sayının ikinci sayıdan büyük olma şartı da eklenmiştir.  \n",
    "\n",
    "\n",
    "\n"
   ]
  },
  {
   "cell_type": "code",
   "execution_count": 20,
   "metadata": {},
   "outputs": [],
   "source": [
    "# Güvercin Yuvası prensibine göre 1 ile 200 arasında seçilen 101 sayıdan en az 2 tanesinin birbirini tam böldüğünü gösterir.\n",
    "bolen_sayisi1=0\n",
    "a=0\n",
    "b=0\n",
    "n=0\n",
    "k=0\n",
    "for i in range(101):\n",
    "    a=sayilar[i]\n",
    "    while a%2==0:\n",
    "        n+=1\n",
    "        a/=2\n",
    "    for j in range(101):\n",
    "        if i!=j:\n",
    "            b=sayilar[j]\n",
    "            while b%2==0:\n",
    "                k+=1\n",
    "                b/=2\n",
    "            if sayilar[i]>sayilar[j] and a==b:\n",
    "                bolen_sayisi1+=1\n",
    "                "
   ]
  },
  {
   "cell_type": "code",
   "execution_count": 19,
   "metadata": {},
   "outputs": [
    {
     "name": "stdout",
     "output_type": "stream",
     "text": [
      "Bu sayı dizisinde en az  60  sayı birbirini tam bölmektedir\n"
     ]
    }
   ],
   "source": [
    "print (\"Bu sayı dizisinde en az \",bolen_sayisi1,\" sayı birbirini tam bölmektedir\")\n"
   ]
  },
  {
   "cell_type": "markdown",
   "metadata": {},
   "source": [
    "Yukarıdaki işlemlerde sadece a ve b sayıları kriter alınarak bölen sayısı aratılmıştır. Fakat 1'e, 2'ye bölünen sayılarda a ve b sayıları eşit çıkmamaktadır. Örneğin 14 ve 2 sayıları ele alındığında 14 sayısı 2<sup>1</sup>. 7 olarak, ve 2 sayısı da  2<sup>1</sup>. 1 olarak yazılabilir. Burada a ve b'yi temsil eden 7 ve 1 rakamları eşit değil fakat 2 sayısı 14 sayısını tam böler. Bu yüzden yukarıdaki kodlar 1 ile 200 arasında 101 saylardan <b>muhakkak</b> öyle iki sayı vardır ki biri diğerini tam böler ifadesinin ıspatını yapar fakat birbirini tam bölen sayı adedini doğru olarak göstermez.\n"
   ]
  },
  {
   "cell_type": "markdown",
   "metadata": {},
   "source": [
    "Bunun için dizideki herbir değerin, geriye kalan diğerleriyle kalansız bölüp bölünmediği mod işlemiyle gerçekleştirildi. mod değeri 0 olduğunda bolen_sayisi2 değişkeni 1 arttırıldı.\n",
    "\n",
    "Bir sayı kendini de kalansız bölüneceği için döngülerdeki i ve j değerleri eşit olmadığı sürece bu işlem gerçekleştirildi. Bu işlemler aşagıdaki gibi yapıldı."
   ]
  },
  {
   "cell_type": "code",
   "execution_count": 17,
   "metadata": {},
   "outputs": [],
   "source": [
    "#Birbirini tam bölen sayı adedini tam olarak bulur.\n",
    "bolen_sayisi2=0\n",
    "for i in range(101):\n",
    "    for j in range(101):\n",
    "        if i!=j:\n",
    "            if sayilar[i] % sayilar[j]==0:\n",
    "                bolen_sayisi2+=1"
   ]
  },
  {
   "cell_type": "markdown",
   "metadata": {},
   "source": [
    "En sonunda birbirini kalansız bölen sayı çifti adedi sayısı bulunup ekrana yazdırıldı."
   ]
  },
  {
   "cell_type": "code",
   "execution_count": 14,
   "metadata": {},
   "outputs": [
    {
     "name": "stdout",
     "output_type": "stream",
     "text": [
      "Bu Sayı Dizisinde 322 adet sayı çifti birbirini kalansız böler.\n"
     ]
    }
   ],
   "source": [
    "print(\"Bu Sayı Dizisinde\" , bolen_sayisi2, \"adet sayı çifti birbirini kalansız böler.\") "
   ]
  },
  {
   "cell_type": "markdown",
   "metadata": {},
   "source": [
    "\n",
    "#### Kodların tamamı aşağıdadır."
   ]
  },
  {
   "cell_type": "code",
   "execution_count": null,
   "metadata": {},
   "outputs": [],
   "source": [
    "import numpy as np\n",
    "import random\n",
    "sayilar = list(range(101))\n",
    "#sayilar=[2,3,11,5,14]\n",
    "for i in range(101):\n",
    "    sayilar[i]=random.randint(1, 200)\n",
    "print(sayilar)\n",
    "\n",
    "\n",
    "# Güvercin Yuvası prensibine göre 1 ile 200 arasında seçilen 101 sayıdan en az 2 tanesinin birbirini tam böldüğünü gösterir.\n",
    "bolen_sayisi1=0\n",
    "a=0\n",
    "b=0\n",
    "n=0\n",
    "k=0\n",
    "for i in range(101):\n",
    "    a=sayilar[i]\n",
    "    while a%2==0:\n",
    "        n+=1\n",
    "        a/=2\n",
    "    for j in range(101):\n",
    "        if i!=j:\n",
    "            b=sayilar[j]\n",
    "            while b%2==0:\n",
    "                k+=1\n",
    "                b/=2\n",
    "            if sayilar[i]>sayilar[j] and a==b:\n",
    "                bolen_sayisi1+=1\n",
    "print (\"Bu sayı dizisinde en az \",bolen_sayisi1,\" sayı birbirini tam bölmektedir\")\n",
    "\n",
    "\n",
    "\n",
    "#Birbirini tam bölen sayı adedini tam olarak bulur.\n",
    "bolen_sayisi2=0\n",
    "for i in range(101):\n",
    "    for j in range(101):\n",
    "        if i!=j:\n",
    "            if sayilar[i] % sayilar[j]==0:\n",
    "                bolen_sayisi2+=1\n",
    "print(\"Bu Sayı Dizisinde\" , bolen_sayisi2, \"adet sayı çifti birbirini kalansız böler.\") "
   ]
  },
  {
   "cell_type": "markdown",
   "metadata": {},
   "source": [
    "### <a href=\"pigeon2.py\">Kaynak Dosya</a>"
   ]
  }
 ],
 "metadata": {
  "kernelspec": {
   "display_name": "Python 3",
   "language": "python",
   "name": "python3"
  },
  "language_info": {
   "codemirror_mode": {
    "name": "ipython",
    "version": 3
   },
   "file_extension": ".py",
   "mimetype": "text/x-python",
   "name": "python",
   "nbconvert_exporter": "python",
   "pygments_lexer": "ipython3",
   "version": "3.7.0"
  }
 },
 "nbformat": 4,
 "nbformat_minor": 2
}
